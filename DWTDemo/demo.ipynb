{
 "cells": [
  {
   "cell_type": "code",
   "id": "initial_id",
   "metadata": {
    "collapsed": true,
    "ExecuteTime": {
     "end_time": "2024-11-12T03:22:44.660673Z",
     "start_time": "2024-11-12T03:22:44.652639Z"
    }
   },
   "source": [
    "import torch\n",
    "import torch.nn as nn\n",
    "\n",
    "# 创建一个二维张量\n",
    "tensor_2d = torch.tensor([[1., 2., 3.],\n",
    "                          [4., 5., 6.]])\n",
    "\n",
    "# 创建Softmax激活函数层，指定在维度dim=1上进行操作\n",
    "softmax_layer = nn.Softmax(dim=0)\n",
    "\n",
    "# 对二维张量应用Softmax操作\n",
    "result = softmax_layer(tensor_2d)\n",
    "\n",
    "print(\"原始二维张量:\")\n",
    "print(tensor_2d)\n",
    "print(\"应用Softmax后的结果:\")\n",
    "print(result)"
   ],
   "outputs": [
    {
     "name": "stdout",
     "output_type": "stream",
     "text": [
      "原始二维张量:\n",
      "tensor([[1., 2., 3.],\n",
      "        [4., 5., 6.]])\n",
      "应用Softmax后的结果:\n",
      "tensor([[0.0474, 0.0474, 0.0474],\n",
      "        [0.9526, 0.9526, 0.9526]])\n"
     ]
    }
   ],
   "execution_count": 3
  },
  {
   "metadata": {
    "ExecuteTime": {
     "end_time": "2024-11-12T03:36:18.896277Z",
     "start_time": "2024-11-12T03:36:18.891221Z"
    }
   },
   "cell_type": "code",
   "source": [
    "import os\n",
    "\n",
    "abs= os.getcwd() + '/'\n",
    "print(abs)"
   ],
   "id": "8621825b618b9c32",
   "outputs": [
    {
     "name": "stdout",
     "output_type": "stream",
     "text": [
      "/Users/wr/PyCode/ModuleRepo/DWTDemo/\n"
     ]
    }
   ],
   "execution_count": 5
  }
 ],
 "metadata": {
  "kernelspec": {
   "display_name": "Python 3",
   "language": "python",
   "name": "python3"
  },
  "language_info": {
   "codemirror_mode": {
    "name": "ipython",
    "version": 2
   },
   "file_extension": ".py",
   "mimetype": "text/x-python",
   "name": "python",
   "nbconvert_exporter": "python",
   "pygments_lexer": "ipython2",
   "version": "2.7.6"
  }
 },
 "nbformat": 4,
 "nbformat_minor": 5
}

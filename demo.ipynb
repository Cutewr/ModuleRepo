{
 "cells": [
  {
   "cell_type": "code",
   "id": "initial_id",
   "metadata": {
    "collapsed": true,
    "ExecuteTime": {
     "end_time": "2024-11-13T08:01:56.032434Z",
     "start_time": "2024-11-13T08:01:56.026594Z"
    }
   },
   "source": [
    "import torch\n",
    "\n",
    "t = torch.randn(3)\n",
    "print(t)  \n",
    "t_unsqueeze = t.unsqueeze_(1)\n",
    "print(t_unsqueeze)\n",
    "print(t_unsqueeze.size())\n",
    "# 输出: torch.Size([3, 4])"
   ],
   "outputs": [
    {
     "name": "stdout",
     "output_type": "stream",
     "text": [
      "tensor([0.8660, 1.9792, 0.8437])\n",
      "tensor([[0.8660],\n",
      "        [1.9792],\n",
      "        [0.8437]])\n",
      "torch.Size([3, 1])\n"
     ]
    }
   ],
   "execution_count": 3
  }
 ],
 "metadata": {
  "kernelspec": {
   "display_name": "Python 3",
   "language": "python",
   "name": "python3"
  },
  "language_info": {
   "codemirror_mode": {
    "name": "ipython",
    "version": 2
   },
   "file_extension": ".py",
   "mimetype": "text/x-python",
   "name": "python",
   "nbconvert_exporter": "python",
   "pygments_lexer": "ipython2",
   "version": "2.7.6"
  }
 },
 "nbformat": 4,
 "nbformat_minor": 5
}
